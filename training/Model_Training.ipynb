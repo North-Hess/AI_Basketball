{
 "cells": [
  {
   "cell_type": "markdown",
   "id": "1e2dd22e",
   "metadata": {},
   "source": [
    "# Setup Paths"
   ]
  },
  {
   "cell_type": "code",
   "execution_count": null,
   "id": "fc5e2a34",
   "metadata": {},
   "outputs": [],
   "source": [
    "import os"
   ]
  },
  {
   "cell_type": "code",
   "execution_count": null,
   "id": "f59ada6e",
   "metadata": {},
   "outputs": [],
   "source": [
    "CUSTOM_MODEL_NAME = 'faster_rcnn_v1'\n",
    "PRETRAINED_MODEL_NAME = 'faster_rcnn_resnet101_v1_640x640_coco17_tpu-8'\n",
    "PRETRAINED_MODEL_URL = 'http://download.tensorflow.org/models/object_detection/tf2/20200711/faster_rcnn_resnet101_v1_640x640_coco17_tpu-8.tar.gz'\n",
    "TF_RECORD_SCRIPT_NAME = 'generate_tfrecord.py'\n",
    "LABEL_MAP_NAME = 'label_map.pbtxt'"
   ]
  },
  {
   "cell_type": "code",
   "execution_count": null,
   "id": "733da1a2",
   "metadata": {},
   "outputs": [],
   "source": [
    "paths = {\n",
    "    'WORKSPACE_PATH': os.path.join('Tensorflow', 'workspace'),\n",
    "    'SCRIPTS_PATH': os.path.join('Tensorflow', 'scripts'),\n",
    "    'APIMODEL_PATH': os.path.join('Tensorflow', 'models'),\n",
    "    'ANNOTATION_PATH': os.path.join('Tensorflow', 'workspace', 'annotations'),\n",
    "    'IMAGE_PATH': os.path.join('Tensorflow', 'workspace', 'images'),\n",
    "    'MODEL_PATH': os.path.join('Tensorflow', 'workspace', 'models'),\n",
    "    'PRETRAINED_MODEL_PATH': os.path.join('Tensorflow', 'workspace', 'pre-trained-models'),\n",
    "    'CHECKPOINT_PATH': os.path.join('Tensorflow', 'workspace', 'models', CUSTOM_MODEL_NAME),\n",
    "    'OUTPUT_PATH': os.path.join('Tensorflow', 'workspace', 'models', CUSTOM_MODEL_NAME, 'export'),\n",
    "    'TFJS_PATH': os.path.join('Tensorflow', 'workspace', 'models', CUSTOM_MODEL_NAME, 'tfjsexport'),\n",
    "    'TFLITE_PATH': os.path.join('Tensorflow', 'workspace', 'models', CUSTOM_MODEL_NAME, 'tfliteexport'),\n",
    "    'PROTOC_PATH': os.path.join('Tensorflow', 'protoc')\n",
    "}"
   ]
  },
  {
   "cell_type": "code",
   "execution_count": null,
   "id": "2015637e",
   "metadata": {},
   "outputs": [],
   "source": [
    "files = {\n",
    "    'PIPELINE_CONFIG': os.path.join('Tensorflow', 'workspace', 'models', CUSTOM_MODEL_NAME, 'pipeline.config'),\n",
    "    'TF_RECORD_SCRIPT': os.path.join(paths['SCRIPTS_PATH'], TF_RECORD_SCRIPT_NAME),\n",
    "    'LABELMAP': os.path.join(paths['ANNOTATION_PATH'], LABEL_MAP_NAME)\n",
    "}"
   ]
  },
  {
   "cell_type": "code",
   "execution_count": null,
   "id": "cae7a126",
   "metadata": {},
   "outputs": [],
   "source": [
    "for path in paths.values():\n",
    "    if not os.path.exists(path):\n",
    "        !mkdir {path}"
   ]
  },
  {
   "cell_type": "code",
   "execution_count": null,
   "id": "3e6e8672",
   "metadata": {},
   "outputs": [],
   "source": [
    "paths"
   ]
  },
  {
   "cell_type": "markdown",
   "id": "7d6ff286",
   "metadata": {},
   "source": [
    "# Download TF Models Pretrained Models from Tensorflow Model Zoo and Install TFOD"
   ]
  },
  {
   "cell_type": "code",
   "execution_count": null,
   "id": "900b6abd",
   "metadata": {},
   "outputs": [],
   "source": [
    "# for Windows\n",
    "!pip install wget"
   ]
  },
  {
   "cell_type": "code",
   "execution_count": 10,
   "id": "b8ed545f",
   "metadata": {},
   "outputs": [],
   "source": [
    "import wget"
   ]
  },
  {
   "cell_type": "code",
   "execution_count": null,
   "id": "22cb7c9f",
   "metadata": {},
   "outputs": [],
   "source": [
    "# Clone Tensorflow Model Garden\n",
    "if not os.path.exists(os.path.join(paths['APIMODEL_PATH'], 'research', 'object_detection')):\n",
    "    !git clone https://github.com/tensorflow/models {paths['APIMODEL_PATH']}"
   ]
  },
  {
   "cell_type": "code",
   "execution_count": null,
   "id": "9fafb43e",
   "metadata": {},
   "outputs": [],
   "source": [
    "# Install Tensorflow Object Detection\n",
    "url=\"https://github.com/protocolbuffers/protobuf/releases/download/v3.15.6/protoc-3.15.6-win64.zip\"\n",
    "wget.download(url)\n",
    "\n",
    "# protoc is Protocol Buffers which is used by Tensorflow\n",
    "!move protoc-3.15.6-win64.zip {paths['PROTOC_PATH']}\n",
    "!cd {paths['PROTOC_PATH']} && tar -xf protoc-3.15.6-win64.zip\n",
    "os.environ['PATH'] += os.pathsep + os.path.abspath(os.path.join(paths['PROTOC_PATH'], 'bin'))  "
   ]
  },
  {
   "cell_type": "code",
   "execution_count": null,
   "id": "3e5db703",
   "metadata": {},
   "outputs": [],
   "source": [
    "!cd Tensorflow/models/research && protoc object_detection/protos/*.proto --python_out=. && copy object_detection\\\\packages\\\\tf2\\\\setup.py setup.py && python setup.py build && python setup.py install\n",
    "!cd Tensorflow/models/research/slim && pip install -e . "
   ]
  },
  {
   "cell_type": "code",
   "execution_count": 13,
   "id": "d72544b9",
   "metadata": {},
   "outputs": [
    {
     "name": "stderr",
     "output_type": "stream",
     "text": [
      "Running tests under Python 3.9.13: C:\\Users\\Abrad\\Documents\\GitHub\\AI_Basketball\\ai\\Scripts\\python.exe\n",
      "[ RUN      ] ModelBuilderTF2Test.test_create_center_net_deepmac\n",
      "2023-03-01 21:13:06.100801: I tensorflow/core/platform/cpu_feature_guard.cc:193] This TensorFlow binary is optimized with oneAPI Deep Neural Network Library (oneDNN) to use the following CPU instructions in performance-critical operations:  AVX AVX2\n",
      "To enable them in other operations, rebuild TensorFlow with the appropriate compiler flags.\n",
      "C:\\Users\\Abrad\\Documents\\GitHub\\AI_Basketball\\ai\\lib\\site-packages\\object_detection-0.1-py3.9.egg\\object_detection\\builders\\model_builder.py:1112: DeprecationWarning: The 'warn' function is deprecated, use 'warning' instead\n",
      "  logging.warn(('Building experimental DeepMAC meta-arch.'\n",
      "W0301 21:13:06.482011 49512 model_builder.py:1112] Building experimental DeepMAC meta-arch. Some features may be omitted.\n",
      "INFO:tensorflow:time(__main__.ModelBuilderTF2Test.test_create_center_net_deepmac): 0.66s\n",
      "I0301 21:13:06.752010 49512 test_util.py:2457] time(__main__.ModelBuilderTF2Test.test_create_center_net_deepmac): 0.66s\n",
      "[       OK ] ModelBuilderTF2Test.test_create_center_net_deepmac\n",
      "[ RUN      ] ModelBuilderTF2Test.test_create_center_net_model0 (customize_head_params=True)\n",
      "INFO:tensorflow:time(__main__.ModelBuilderTF2Test.test_create_center_net_model0 (customize_head_params=True)): 1.38s\n",
      "I0301 21:13:08.134010 49512 test_util.py:2457] time(__main__.ModelBuilderTF2Test.test_create_center_net_model0 (customize_head_params=True)): 1.38s\n",
      "[       OK ] ModelBuilderTF2Test.test_create_center_net_model0 (customize_head_params=True)\n",
      "[ RUN      ] ModelBuilderTF2Test.test_create_center_net_model1 (customize_head_params=False)\n",
      "INFO:tensorflow:time(__main__.ModelBuilderTF2Test.test_create_center_net_model1 (customize_head_params=False)): 0.34s\n",
      "I0301 21:13:08.476010 49512 test_util.py:2457] time(__main__.ModelBuilderTF2Test.test_create_center_net_model1 (customize_head_params=False)): 0.34s\n",
      "[       OK ] ModelBuilderTF2Test.test_create_center_net_model1 (customize_head_params=False)\n",
      "[ RUN      ] ModelBuilderTF2Test.test_create_center_net_model_from_keypoints\n",
      "INFO:tensorflow:time(__main__.ModelBuilderTF2Test.test_create_center_net_model_from_keypoints): 0.27s\n",
      "I0301 21:13:08.742009 49512 test_util.py:2457] time(__main__.ModelBuilderTF2Test.test_create_center_net_model_from_keypoints): 0.27s\n",
      "[       OK ] ModelBuilderTF2Test.test_create_center_net_model_from_keypoints\n",
      "[ RUN      ] ModelBuilderTF2Test.test_create_center_net_model_mobilenet\n",
      "INFO:tensorflow:time(__main__.ModelBuilderTF2Test.test_create_center_net_model_mobilenet): 2.1s\n",
      "I0301 21:13:10.838010 49512 test_util.py:2457] time(__main__.ModelBuilderTF2Test.test_create_center_net_model_mobilenet): 2.1s\n",
      "[       OK ] ModelBuilderTF2Test.test_create_center_net_model_mobilenet\n",
      "[ RUN      ] ModelBuilderTF2Test.test_create_experimental_model\n",
      "INFO:tensorflow:time(__main__.ModelBuilderTF2Test.test_create_experimental_model): 0.0s\n",
      "I0301 21:13:10.843012 49512 test_util.py:2457] time(__main__.ModelBuilderTF2Test.test_create_experimental_model): 0.0s\n",
      "[       OK ] ModelBuilderTF2Test.test_create_experimental_model\n",
      "[ RUN      ] ModelBuilderTF2Test.test_create_faster_rcnn_from_config_with_crop_feature0 (True)\n",
      "INFO:tensorflow:time(__main__.ModelBuilderTF2Test.test_create_faster_rcnn_from_config_with_crop_feature0 (True)): 0.1s\n",
      "I0301 21:13:10.940011 49512 test_util.py:2457] time(__main__.ModelBuilderTF2Test.test_create_faster_rcnn_from_config_with_crop_feature0 (True)): 0.1s\n",
      "[       OK ] ModelBuilderTF2Test.test_create_faster_rcnn_from_config_with_crop_feature0 (True)\n",
      "[ RUN      ] ModelBuilderTF2Test.test_create_faster_rcnn_from_config_with_crop_feature1 (False)\n",
      "INFO:tensorflow:time(__main__.ModelBuilderTF2Test.test_create_faster_rcnn_from_config_with_crop_feature1 (False)): 0.02s\n",
      "I0301 21:13:10.956010 49512 test_util.py:2457] time(__main__.ModelBuilderTF2Test.test_create_faster_rcnn_from_config_with_crop_feature1 (False)): 0.02s\n",
      "[       OK ] ModelBuilderTF2Test.test_create_faster_rcnn_from_config_with_crop_feature1 (False)\n",
      "[ RUN      ] ModelBuilderTF2Test.test_create_faster_rcnn_model_from_config_with_example_miner\n",
      "INFO:tensorflow:time(__main__.ModelBuilderTF2Test.test_create_faster_rcnn_model_from_config_with_example_miner): 0.02s\n",
      "I0301 21:13:10.973011 49512 test_util.py:2457] time(__main__.ModelBuilderTF2Test.test_create_faster_rcnn_model_from_config_with_example_miner): 0.02s\n",
      "[       OK ] ModelBuilderTF2Test.test_create_faster_rcnn_model_from_config_with_example_miner\n",
      "[ RUN      ] ModelBuilderTF2Test.test_create_faster_rcnn_models_from_config_faster_rcnn_with_matmul\n",
      "INFO:tensorflow:time(__main__.ModelBuilderTF2Test.test_create_faster_rcnn_models_from_config_faster_rcnn_with_matmul): 0.1s\n",
      "I0301 21:13:11.075009 49512 test_util.py:2457] time(__main__.ModelBuilderTF2Test.test_create_faster_rcnn_models_from_config_faster_rcnn_with_matmul): 0.1s\n",
      "[       OK ] ModelBuilderTF2Test.test_create_faster_rcnn_models_from_config_faster_rcnn_with_matmul\n",
      "[ RUN      ] ModelBuilderTF2Test.test_create_faster_rcnn_models_from_config_faster_rcnn_without_matmul\n",
      "INFO:tensorflow:time(__main__.ModelBuilderTF2Test.test_create_faster_rcnn_models_from_config_faster_rcnn_without_matmul): 0.1s\n",
      "I0301 21:13:11.170010 49512 test_util.py:2457] time(__main__.ModelBuilderTF2Test.test_create_faster_rcnn_models_from_config_faster_rcnn_without_matmul): 0.1s\n",
      "[       OK ] ModelBuilderTF2Test.test_create_faster_rcnn_models_from_config_faster_rcnn_without_matmul\n",
      "[ RUN      ] ModelBuilderTF2Test.test_create_faster_rcnn_models_from_config_mask_rcnn_with_matmul\n",
      "INFO:tensorflow:time(__main__.ModelBuilderTF2Test.test_create_faster_rcnn_models_from_config_mask_rcnn_with_matmul): 0.1s\n",
      "I0301 21:13:11.270010 49512 test_util.py:2457] time(__main__.ModelBuilderTF2Test.test_create_faster_rcnn_models_from_config_mask_rcnn_with_matmul): 0.1s\n",
      "[       OK ] ModelBuilderTF2Test.test_create_faster_rcnn_models_from_config_mask_rcnn_with_matmul\n",
      "[ RUN      ] ModelBuilderTF2Test.test_create_faster_rcnn_models_from_config_mask_rcnn_without_matmul\n",
      "INFO:tensorflow:time(__main__.ModelBuilderTF2Test.test_create_faster_rcnn_models_from_config_mask_rcnn_without_matmul): 0.1s\n",
      "I0301 21:13:11.368011 49512 test_util.py:2457] time(__main__.ModelBuilderTF2Test.test_create_faster_rcnn_models_from_config_mask_rcnn_without_matmul): 0.1s\n",
      "[       OK ] ModelBuilderTF2Test.test_create_faster_rcnn_models_from_config_mask_rcnn_without_matmul\n",
      "[ RUN      ] ModelBuilderTF2Test.test_create_rfcn_model_from_config\n",
      "INFO:tensorflow:time(__main__.ModelBuilderTF2Test.test_create_rfcn_model_from_config): 0.09s\n",
      "I0301 21:13:11.463010 49512 test_util.py:2457] time(__main__.ModelBuilderTF2Test.test_create_rfcn_model_from_config): 0.09s\n",
      "[       OK ] ModelBuilderTF2Test.test_create_rfcn_model_from_config\n",
      "[ RUN      ] ModelBuilderTF2Test.test_create_ssd_fpn_model_from_config\n",
      "INFO:tensorflow:time(__main__.ModelBuilderTF2Test.test_create_ssd_fpn_model_from_config): 0.03s\n",
      "I0301 21:13:11.492011 49512 test_util.py:2457] time(__main__.ModelBuilderTF2Test.test_create_ssd_fpn_model_from_config): 0.03s\n",
      "[       OK ] ModelBuilderTF2Test.test_create_ssd_fpn_model_from_config\n",
      "[ RUN      ] ModelBuilderTF2Test.test_create_ssd_models_from_config\n",
      "I0301 21:13:11.667011 49512 ssd_efficientnet_bifpn_feature_extractor.py:150] EfficientDet EfficientNet backbone version: efficientnet-b0\n",
      "I0301 21:13:11.667011 49512 ssd_efficientnet_bifpn_feature_extractor.py:152] EfficientDet BiFPN num filters: 64\n",
      "I0301 21:13:11.667011 49512 ssd_efficientnet_bifpn_feature_extractor.py:153] EfficientDet BiFPN num iterations: 3\n",
      "I0301 21:13:11.669011 49512 efficientnet_model.py:143] round_filter input=32 output=32\n",
      "I0301 21:13:11.695036 49512 efficientnet_model.py:143] round_filter input=32 output=32\n",
      "I0301 21:13:11.695036 49512 efficientnet_model.py:143] round_filter input=16 output=16\n",
      "I0301 21:13:11.765009 49512 efficientnet_model.py:143] round_filter input=16 output=16\n",
      "I0301 21:13:11.765009 49512 efficientnet_model.py:143] round_filter input=24 output=24\n",
      "I0301 21:13:11.947041 49512 efficientnet_model.py:143] round_filter input=24 output=24\n",
      "I0301 21:13:11.947041 49512 efficientnet_model.py:143] round_filter input=40 output=40\n",
      "I0301 21:13:12.125010 49512 efficientnet_model.py:143] round_filter input=40 output=40\n",
      "I0301 21:13:12.125010 49512 efficientnet_model.py:143] round_filter input=80 output=80\n",
      "I0301 21:13:12.383010 49512 efficientnet_model.py:143] round_filter input=80 output=80\n",
      "I0301 21:13:12.383010 49512 efficientnet_model.py:143] round_filter input=112 output=112\n",
      "I0301 21:13:12.669010 49512 efficientnet_model.py:143] round_filter input=112 output=112\n",
      "I0301 21:13:12.669010 49512 efficientnet_model.py:143] round_filter input=192 output=192\n",
      "I0301 21:13:13.027010 49512 efficientnet_model.py:143] round_filter input=192 output=192\n",
      "I0301 21:13:13.027010 49512 efficientnet_model.py:143] round_filter input=320 output=320\n",
      "I0301 21:13:13.118010 49512 efficientnet_model.py:143] round_filter input=1280 output=1280\n",
      "I0301 21:13:13.173010 49512 efficientnet_model.py:453] Building model efficientnet with params ModelConfig(width_coefficient=1.0, depth_coefficient=1.0, resolution=224, dropout_rate=0.2, blocks=(BlockConfig(input_filters=32, output_filters=16, kernel_size=3, num_repeat=1, expand_ratio=1, strides=(1, 1), se_ratio=0.25, id_skip=True, fused_conv=False, conv_type='depthwise'), BlockConfig(input_filters=16, output_filters=24, kernel_size=3, num_repeat=2, expand_ratio=6, strides=(2, 2), se_ratio=0.25, id_skip=True, fused_conv=False, conv_type='depthwise'), BlockConfig(input_filters=24, output_filters=40, kernel_size=5, num_repeat=2, expand_ratio=6, strides=(2, 2), se_ratio=0.25, id_skip=True, fused_conv=False, conv_type='depthwise'), BlockConfig(input_filters=40, output_filters=80, kernel_size=3, num_repeat=3, expand_ratio=6, strides=(2, 2), se_ratio=0.25, id_skip=True, fused_conv=False, conv_type='depthwise'), BlockConfig(input_filters=80, output_filters=112, kernel_size=5, num_repeat=3, expand_ratio=6, strides=(1, 1), se_ratio=0.25, id_skip=True, fused_conv=False, conv_type='depthwise'), BlockConfig(input_filters=112, output_filters=192, kernel_size=5, num_repeat=4, expand_ratio=6, strides=(2, 2), se_ratio=0.25, id_skip=True, fused_conv=False, conv_type='depthwise'), BlockConfig(input_filters=192, output_filters=320, kernel_size=3, num_repeat=1, expand_ratio=6, strides=(1, 1), se_ratio=0.25, id_skip=True, fused_conv=False, conv_type='depthwise')), stem_base_filters=32, top_base_filters=1280, activation='simple_swish', batch_norm='default', bn_momentum=0.99, bn_epsilon=0.001, weight_decay=5e-06, drop_connect_rate=0.2, depth_divisor=8, min_depth=None, use_se=True, input_channels=3, num_classes=1000, model_name='efficientnet', rescale_input=False, data_format='channels_last', dtype='float32')\n",
      "I0301 21:13:13.223011 49512 ssd_efficientnet_bifpn_feature_extractor.py:150] EfficientDet EfficientNet backbone version: efficientnet-b1\n",
      "I0301 21:13:13.223011 49512 ssd_efficientnet_bifpn_feature_extractor.py:152] EfficientDet BiFPN num filters: 88\n",
      "I0301 21:13:13.223011 49512 ssd_efficientnet_bifpn_feature_extractor.py:153] EfficientDet BiFPN num iterations: 4\n",
      "I0301 21:13:13.225010 49512 efficientnet_model.py:143] round_filter input=32 output=32\n",
      "I0301 21:13:13.240011 49512 efficientnet_model.py:143] round_filter input=32 output=32\n",
      "I0301 21:13:13.241010 49512 efficientnet_model.py:143] round_filter input=16 output=16\n",
      "I0301 21:13:13.374010 49512 efficientnet_model.py:143] round_filter input=16 output=16\n",
      "I0301 21:13:13.374010 49512 efficientnet_model.py:143] round_filter input=24 output=24\n",
      "I0301 21:13:13.612010 49512 efficientnet_model.py:143] round_filter input=24 output=24\n",
      "I0301 21:13:13.612010 49512 efficientnet_model.py:143] round_filter input=40 output=40\n",
      "I0301 21:13:13.913011 49512 efficientnet_model.py:143] round_filter input=40 output=40\n",
      "I0301 21:13:13.913011 49512 efficientnet_model.py:143] round_filter input=80 output=80\n",
      "I0301 21:13:14.239010 49512 efficientnet_model.py:143] round_filter input=80 output=80\n",
      "I0301 21:13:14.239010 49512 efficientnet_model.py:143] round_filter input=112 output=112\n",
      "I0301 21:13:14.566010 49512 efficientnet_model.py:143] round_filter input=112 output=112\n",
      "I0301 21:13:14.566010 49512 efficientnet_model.py:143] round_filter input=192 output=192\n",
      "I0301 21:13:15.018010 49512 efficientnet_model.py:143] round_filter input=192 output=192\n",
      "I0301 21:13:15.018010 49512 efficientnet_model.py:143] round_filter input=320 output=320\n",
      "I0301 21:13:15.213011 49512 efficientnet_model.py:143] round_filter input=1280 output=1280\n",
      "I0301 21:13:15.257010 49512 efficientnet_model.py:453] Building model efficientnet with params ModelConfig(width_coefficient=1.0, depth_coefficient=1.1, resolution=240, dropout_rate=0.2, blocks=(BlockConfig(input_filters=32, output_filters=16, kernel_size=3, num_repeat=1, expand_ratio=1, strides=(1, 1), se_ratio=0.25, id_skip=True, fused_conv=False, conv_type='depthwise'), BlockConfig(input_filters=16, output_filters=24, kernel_size=3, num_repeat=2, expand_ratio=6, strides=(2, 2), se_ratio=0.25, id_skip=True, fused_conv=False, conv_type='depthwise'), BlockConfig(input_filters=24, output_filters=40, kernel_size=5, num_repeat=2, expand_ratio=6, strides=(2, 2), se_ratio=0.25, id_skip=True, fused_conv=False, conv_type='depthwise'), BlockConfig(input_filters=40, output_filters=80, kernel_size=3, num_repeat=3, expand_ratio=6, strides=(2, 2), se_ratio=0.25, id_skip=True, fused_conv=False, conv_type='depthwise'), BlockConfig(input_filters=80, output_filters=112, kernel_size=5, num_repeat=3, expand_ratio=6, strides=(1, 1), se_ratio=0.25, id_skip=True, fused_conv=False, conv_type='depthwise'), BlockConfig(input_filters=112, output_filters=192, kernel_size=5, num_repeat=4, expand_ratio=6, strides=(2, 2), se_ratio=0.25, id_skip=True, fused_conv=False, conv_type='depthwise'), BlockConfig(input_filters=192, output_filters=320, kernel_size=3, num_repeat=1, expand_ratio=6, strides=(1, 1), se_ratio=0.25, id_skip=True, fused_conv=False, conv_type='depthwise')), stem_base_filters=32, top_base_filters=1280, activation='simple_swish', batch_norm='default', bn_momentum=0.99, bn_epsilon=0.001, weight_decay=5e-06, drop_connect_rate=0.2, depth_divisor=8, min_depth=None, use_se=True, input_channels=3, num_classes=1000, model_name='efficientnet', rescale_input=False, data_format='channels_last', dtype='float32')\n",
      "I0301 21:13:15.316010 49512 ssd_efficientnet_bifpn_feature_extractor.py:150] EfficientDet EfficientNet backbone version: efficientnet-b2\n",
      "I0301 21:13:15.316010 49512 ssd_efficientnet_bifpn_feature_extractor.py:152] EfficientDet BiFPN num filters: 112\n",
      "I0301 21:13:15.316010 49512 ssd_efficientnet_bifpn_feature_extractor.py:153] EfficientDet BiFPN num iterations: 5\n",
      "I0301 21:13:15.318010 49512 efficientnet_model.py:143] round_filter input=32 output=32\n",
      "I0301 21:13:15.334010 49512 efficientnet_model.py:143] round_filter input=32 output=32\n",
      "I0301 21:13:15.334010 49512 efficientnet_model.py:143] round_filter input=16 output=16\n",
      "I0301 21:13:15.460011 49512 efficientnet_model.py:143] round_filter input=16 output=16\n",
      "I0301 21:13:15.460011 49512 efficientnet_model.py:143] round_filter input=24 output=24\n",
      "I0301 21:13:15.695036 49512 efficientnet_model.py:143] round_filter input=24 output=24\n",
      "I0301 21:13:15.696010 49512 efficientnet_model.py:143] round_filter input=40 output=48\n",
      "I0301 21:13:15.947010 49512 efficientnet_model.py:143] round_filter input=40 output=48\n",
      "I0301 21:13:15.948011 49512 efficientnet_model.py:143] round_filter input=80 output=88\n",
      "I0301 21:13:16.291011 49512 efficientnet_model.py:143] round_filter input=80 output=88\n",
      "I0301 21:13:16.291011 49512 efficientnet_model.py:143] round_filter input=112 output=120\n",
      "I0301 21:13:16.635036 49512 efficientnet_model.py:143] round_filter input=112 output=120\n",
      "I0301 21:13:16.635036 49512 efficientnet_model.py:143] round_filter input=192 output=208\n",
      "I0301 21:13:17.109009 49512 efficientnet_model.py:143] round_filter input=192 output=208\n",
      "I0301 21:13:17.109009 49512 efficientnet_model.py:143] round_filter input=320 output=352\n",
      "I0301 21:13:17.311011 49512 efficientnet_model.py:143] round_filter input=1280 output=1408\n",
      "I0301 21:13:17.363009 49512 efficientnet_model.py:453] Building model efficientnet with params ModelConfig(width_coefficient=1.1, depth_coefficient=1.2, resolution=260, dropout_rate=0.3, blocks=(BlockConfig(input_filters=32, output_filters=16, kernel_size=3, num_repeat=1, expand_ratio=1, strides=(1, 1), se_ratio=0.25, id_skip=True, fused_conv=False, conv_type='depthwise'), BlockConfig(input_filters=16, output_filters=24, kernel_size=3, num_repeat=2, expand_ratio=6, strides=(2, 2), se_ratio=0.25, id_skip=True, fused_conv=False, conv_type='depthwise'), BlockConfig(input_filters=24, output_filters=40, kernel_size=5, num_repeat=2, expand_ratio=6, strides=(2, 2), se_ratio=0.25, id_skip=True, fused_conv=False, conv_type='depthwise'), BlockConfig(input_filters=40, output_filters=80, kernel_size=3, num_repeat=3, expand_ratio=6, strides=(2, 2), se_ratio=0.25, id_skip=True, fused_conv=False, conv_type='depthwise'), BlockConfig(input_filters=80, output_filters=112, kernel_size=5, num_repeat=3, expand_ratio=6, strides=(1, 1), se_ratio=0.25, id_skip=True, fused_conv=False, conv_type='depthwise'), BlockConfig(input_filters=112, output_filters=192, kernel_size=5, num_repeat=4, expand_ratio=6, strides=(2, 2), se_ratio=0.25, id_skip=True, fused_conv=False, conv_type='depthwise'), BlockConfig(input_filters=192, output_filters=320, kernel_size=3, num_repeat=1, expand_ratio=6, strides=(1, 1), se_ratio=0.25, id_skip=True, fused_conv=False, conv_type='depthwise')), stem_base_filters=32, top_base_filters=1280, activation='simple_swish', batch_norm='default', bn_momentum=0.99, bn_epsilon=0.001, weight_decay=5e-06, drop_connect_rate=0.2, depth_divisor=8, min_depth=None, use_se=True, input_channels=3, num_classes=1000, model_name='efficientnet', rescale_input=False, data_format='channels_last', dtype='float32')\n",
      "I0301 21:13:17.419012 49512 ssd_efficientnet_bifpn_feature_extractor.py:150] EfficientDet EfficientNet backbone version: efficientnet-b3\n",
      "I0301 21:13:17.420012 49512 ssd_efficientnet_bifpn_feature_extractor.py:152] EfficientDet BiFPN num filters: 160\n",
      "I0301 21:13:17.420012 49512 ssd_efficientnet_bifpn_feature_extractor.py:153] EfficientDet BiFPN num iterations: 6\n",
      "I0301 21:13:17.421011 49512 efficientnet_model.py:143] round_filter input=32 output=40\n",
      "I0301 21:13:17.439011 49512 efficientnet_model.py:143] round_filter input=32 output=40\n",
      "I0301 21:13:17.439011 49512 efficientnet_model.py:143] round_filter input=16 output=24\n",
      "I0301 21:13:17.579041 49512 efficientnet_model.py:143] round_filter input=16 output=24\n",
      "I0301 21:13:17.579041 49512 efficientnet_model.py:143] round_filter input=24 output=32\n",
      "I0301 21:13:17.826010 49512 efficientnet_model.py:143] round_filter input=24 output=32\n",
      "I0301 21:13:17.826010 49512 efficientnet_model.py:143] round_filter input=40 output=48\n",
      "I0301 21:13:18.067067 49512 efficientnet_model.py:143] round_filter input=40 output=48\n",
      "I0301 21:13:18.067067 49512 efficientnet_model.py:143] round_filter input=80 output=96\n",
      "I0301 21:13:18.586011 49512 efficientnet_model.py:143] round_filter input=80 output=96\n",
      "I0301 21:13:18.586011 49512 efficientnet_model.py:143] round_filter input=112 output=136\n",
      "I0301 21:13:19.018011 49512 efficientnet_model.py:143] round_filter input=112 output=136\n",
      "I0301 21:13:19.018011 49512 efficientnet_model.py:143] round_filter input=192 output=232\n",
      "I0301 21:13:19.605010 49512 efficientnet_model.py:143] round_filter input=192 output=232\n",
      "I0301 21:13:19.605010 49512 efficientnet_model.py:143] round_filter input=320 output=384\n",
      "I0301 21:13:19.818012 49512 efficientnet_model.py:143] round_filter input=1280 output=1536\n",
      "I0301 21:13:19.873011 49512 efficientnet_model.py:453] Building model efficientnet with params ModelConfig(width_coefficient=1.2, depth_coefficient=1.4, resolution=300, dropout_rate=0.3, blocks=(BlockConfig(input_filters=32, output_filters=16, kernel_size=3, num_repeat=1, expand_ratio=1, strides=(1, 1), se_ratio=0.25, id_skip=True, fused_conv=False, conv_type='depthwise'), BlockConfig(input_filters=16, output_filters=24, kernel_size=3, num_repeat=2, expand_ratio=6, strides=(2, 2), se_ratio=0.25, id_skip=True, fused_conv=False, conv_type='depthwise'), BlockConfig(input_filters=24, output_filters=40, kernel_size=5, num_repeat=2, expand_ratio=6, strides=(2, 2), se_ratio=0.25, id_skip=True, fused_conv=False, conv_type='depthwise'), BlockConfig(input_filters=40, output_filters=80, kernel_size=3, num_repeat=3, expand_ratio=6, strides=(2, 2), se_ratio=0.25, id_skip=True, fused_conv=False, conv_type='depthwise'), BlockConfig(input_filters=80, output_filters=112, kernel_size=5, num_repeat=3, expand_ratio=6, strides=(1, 1), se_ratio=0.25, id_skip=True, fused_conv=False, conv_type='depthwise'), BlockConfig(input_filters=112, output_filters=192, kernel_size=5, num_repeat=4, expand_ratio=6, strides=(2, 2), se_ratio=0.25, id_skip=True, fused_conv=False, conv_type='depthwise'), BlockConfig(input_filters=192, output_filters=320, kernel_size=3, num_repeat=1, expand_ratio=6, strides=(1, 1), se_ratio=0.25, id_skip=True, fused_conv=False, conv_type='depthwise')), stem_base_filters=32, top_base_filters=1280, activation='simple_swish', batch_norm='default', bn_momentum=0.99, bn_epsilon=0.001, weight_decay=5e-06, drop_connect_rate=0.2, depth_divisor=8, min_depth=None, use_se=True, input_channels=3, num_classes=1000, model_name='efficientnet', rescale_input=False, data_format='channels_last', dtype='float32')\n",
      "I0301 21:13:19.938009 49512 ssd_efficientnet_bifpn_feature_extractor.py:150] EfficientDet EfficientNet backbone version: efficientnet-b4\n",
      "I0301 21:13:19.938009 49512 ssd_efficientnet_bifpn_feature_extractor.py:152] EfficientDet BiFPN num filters: 224\n",
      "I0301 21:13:19.938009 49512 ssd_efficientnet_bifpn_feature_extractor.py:153] EfficientDet BiFPN num iterations: 7\n",
      "I0301 21:13:19.939011 49512 efficientnet_model.py:143] round_filter input=32 output=48\n",
      "I0301 21:13:19.958011 49512 efficientnet_model.py:143] round_filter input=32 output=48\n",
      "I0301 21:13:19.958011 49512 efficientnet_model.py:143] round_filter input=16 output=24\n",
      "I0301 21:13:20.092041 49512 efficientnet_model.py:143] round_filter input=16 output=24\n",
      "I0301 21:13:20.092041 49512 efficientnet_model.py:143] round_filter input=24 output=32\n",
      "I0301 21:13:20.410010 49512 efficientnet_model.py:143] round_filter input=24 output=32\n",
      "I0301 21:13:20.410010 49512 efficientnet_model.py:143] round_filter input=40 output=56\n",
      "I0301 21:13:20.748009 49512 efficientnet_model.py:143] round_filter input=40 output=56\n",
      "I0301 21:13:20.748009 49512 efficientnet_model.py:143] round_filter input=80 output=112\n",
      "I0301 21:13:21.250011 49512 efficientnet_model.py:143] round_filter input=80 output=112\n",
      "I0301 21:13:21.250011 49512 efficientnet_model.py:143] round_filter input=112 output=160\n",
      "I0301 21:13:21.801036 49512 efficientnet_model.py:143] round_filter input=112 output=160\n",
      "I0301 21:13:21.801036 49512 efficientnet_model.py:143] round_filter input=192 output=272\n",
      "I0301 21:13:22.600010 49512 efficientnet_model.py:143] round_filter input=192 output=272\n",
      "I0301 21:13:22.600010 49512 efficientnet_model.py:143] round_filter input=320 output=448\n",
      "I0301 21:13:22.827010 49512 efficientnet_model.py:143] round_filter input=1280 output=1792\n",
      "I0301 21:13:22.882010 49512 efficientnet_model.py:453] Building model efficientnet with params ModelConfig(width_coefficient=1.4, depth_coefficient=1.8, resolution=380, dropout_rate=0.4, blocks=(BlockConfig(input_filters=32, output_filters=16, kernel_size=3, num_repeat=1, expand_ratio=1, strides=(1, 1), se_ratio=0.25, id_skip=True, fused_conv=False, conv_type='depthwise'), BlockConfig(input_filters=16, output_filters=24, kernel_size=3, num_repeat=2, expand_ratio=6, strides=(2, 2), se_ratio=0.25, id_skip=True, fused_conv=False, conv_type='depthwise'), BlockConfig(input_filters=24, output_filters=40, kernel_size=5, num_repeat=2, expand_ratio=6, strides=(2, 2), se_ratio=0.25, id_skip=True, fused_conv=False, conv_type='depthwise'), BlockConfig(input_filters=40, output_filters=80, kernel_size=3, num_repeat=3, expand_ratio=6, strides=(2, 2), se_ratio=0.25, id_skip=True, fused_conv=False, conv_type='depthwise'), BlockConfig(input_filters=80, output_filters=112, kernel_size=5, num_repeat=3, expand_ratio=6, strides=(1, 1), se_ratio=0.25, id_skip=True, fused_conv=False, conv_type='depthwise'), BlockConfig(input_filters=112, output_filters=192, kernel_size=5, num_repeat=4, expand_ratio=6, strides=(2, 2), se_ratio=0.25, id_skip=True, fused_conv=False, conv_type='depthwise'), BlockConfig(input_filters=192, output_filters=320, kernel_size=3, num_repeat=1, expand_ratio=6, strides=(1, 1), se_ratio=0.25, id_skip=True, fused_conv=False, conv_type='depthwise')), stem_base_filters=32, top_base_filters=1280, activation='simple_swish', batch_norm='default', bn_momentum=0.99, bn_epsilon=0.001, weight_decay=5e-06, drop_connect_rate=0.2, depth_divisor=8, min_depth=None, use_se=True, input_channels=3, num_classes=1000, model_name='efficientnet', rescale_input=False, data_format='channels_last', dtype='float32')\n",
      "I0301 21:13:22.956010 49512 ssd_efficientnet_bifpn_feature_extractor.py:150] EfficientDet EfficientNet backbone version: efficientnet-b5\n",
      "I0301 21:13:22.956010 49512 ssd_efficientnet_bifpn_feature_extractor.py:152] EfficientDet BiFPN num filters: 288\n",
      "I0301 21:13:22.956010 49512 ssd_efficientnet_bifpn_feature_extractor.py:153] EfficientDet BiFPN num iterations: 7\n",
      "I0301 21:13:22.957010 49512 efficientnet_model.py:143] round_filter input=32 output=48\n",
      "I0301 21:13:22.973011 49512 efficientnet_model.py:143] round_filter input=32 output=48\n",
      "I0301 21:13:22.973011 49512 efficientnet_model.py:143] round_filter input=16 output=24\n",
      "I0301 21:13:23.169011 49512 efficientnet_model.py:143] round_filter input=16 output=24\n",
      "I0301 21:13:23.169011 49512 efficientnet_model.py:143] round_filter input=24 output=40\n",
      "I0301 21:13:23.751010 49512 efficientnet_model.py:143] round_filter input=24 output=40\n",
      "I0301 21:13:23.752010 49512 efficientnet_model.py:143] round_filter input=40 output=64\n",
      "I0301 21:13:24.211012 49512 efficientnet_model.py:143] round_filter input=40 output=64\n",
      "I0301 21:13:24.211012 49512 efficientnet_model.py:143] round_filter input=80 output=128\n",
      "I0301 21:13:24.860010 49512 efficientnet_model.py:143] round_filter input=80 output=128\n",
      "I0301 21:13:24.860010 49512 efficientnet_model.py:143] round_filter input=112 output=176\n",
      "I0301 21:13:25.500011 49512 efficientnet_model.py:143] round_filter input=112 output=176\n",
      "I0301 21:13:25.500011 49512 efficientnet_model.py:143] round_filter input=192 output=304\n",
      "I0301 21:13:26.426011 49512 efficientnet_model.py:143] round_filter input=192 output=304\n",
      "I0301 21:13:26.426011 49512 efficientnet_model.py:143] round_filter input=320 output=512\n",
      "I0301 21:13:26.789010 49512 efficientnet_model.py:143] round_filter input=1280 output=2048\n",
      "I0301 21:13:26.856010 49512 efficientnet_model.py:453] Building model efficientnet with params ModelConfig(width_coefficient=1.6, depth_coefficient=2.2, resolution=456, dropout_rate=0.4, blocks=(BlockConfig(input_filters=32, output_filters=16, kernel_size=3, num_repeat=1, expand_ratio=1, strides=(1, 1), se_ratio=0.25, id_skip=True, fused_conv=False, conv_type='depthwise'), BlockConfig(input_filters=16, output_filters=24, kernel_size=3, num_repeat=2, expand_ratio=6, strides=(2, 2), se_ratio=0.25, id_skip=True, fused_conv=False, conv_type='depthwise'), BlockConfig(input_filters=24, output_filters=40, kernel_size=5, num_repeat=2, expand_ratio=6, strides=(2, 2), se_ratio=0.25, id_skip=True, fused_conv=False, conv_type='depthwise'), BlockConfig(input_filters=40, output_filters=80, kernel_size=3, num_repeat=3, expand_ratio=6, strides=(2, 2), se_ratio=0.25, id_skip=True, fused_conv=False, conv_type='depthwise'), BlockConfig(input_filters=80, output_filters=112, kernel_size=5, num_repeat=3, expand_ratio=6, strides=(1, 1), se_ratio=0.25, id_skip=True, fused_conv=False, conv_type='depthwise'), BlockConfig(input_filters=112, output_filters=192, kernel_size=5, num_repeat=4, expand_ratio=6, strides=(2, 2), se_ratio=0.25, id_skip=True, fused_conv=False, conv_type='depthwise'), BlockConfig(input_filters=192, output_filters=320, kernel_size=3, num_repeat=1, expand_ratio=6, strides=(1, 1), se_ratio=0.25, id_skip=True, fused_conv=False, conv_type='depthwise')), stem_base_filters=32, top_base_filters=1280, activation='simple_swish', batch_norm='default', bn_momentum=0.99, bn_epsilon=0.001, weight_decay=5e-06, drop_connect_rate=0.2, depth_divisor=8, min_depth=None, use_se=True, input_channels=3, num_classes=1000, model_name='efficientnet', rescale_input=False, data_format='channels_last', dtype='float32')\n",
      "I0301 21:13:26.942010 49512 ssd_efficientnet_bifpn_feature_extractor.py:150] EfficientDet EfficientNet backbone version: efficientnet-b6\n",
      "I0301 21:13:26.942010 49512 ssd_efficientnet_bifpn_feature_extractor.py:152] EfficientDet BiFPN num filters: 384\n",
      "I0301 21:13:26.942010 49512 ssd_efficientnet_bifpn_feature_extractor.py:153] EfficientDet BiFPN num iterations: 8\n",
      "I0301 21:13:26.944010 49512 efficientnet_model.py:143] round_filter input=32 output=56\n",
      "I0301 21:13:26.963010 49512 efficientnet_model.py:143] round_filter input=32 output=56\n",
      "I0301 21:13:26.963010 49512 efficientnet_model.py:143] round_filter input=16 output=32\n",
      "I0301 21:13:27.169009 49512 efficientnet_model.py:143] round_filter input=16 output=32\n",
      "I0301 21:13:27.169009 49512 efficientnet_model.py:143] round_filter input=24 output=40\n",
      "I0301 21:13:27.783010 49512 efficientnet_model.py:143] round_filter input=24 output=40\n",
      "I0301 21:13:27.783010 49512 efficientnet_model.py:143] round_filter input=40 output=72\n",
      "I0301 21:13:28.380009 49512 efficientnet_model.py:143] round_filter input=40 output=72\n",
      "I0301 21:13:28.380009 49512 efficientnet_model.py:143] round_filter input=80 output=144\n",
      "I0301 21:13:29.317011 49512 efficientnet_model.py:143] round_filter input=80 output=144\n",
      "I0301 21:13:29.317011 49512 efficientnet_model.py:143] round_filter input=112 output=200\n",
      "I0301 21:13:30.143009 49512 efficientnet_model.py:143] round_filter input=112 output=200\n",
      "I0301 21:13:30.143009 49512 efficientnet_model.py:143] round_filter input=192 output=344\n",
      "I0301 21:13:31.297010 49512 efficientnet_model.py:143] round_filter input=192 output=344\n",
      "I0301 21:13:31.297010 49512 efficientnet_model.py:143] round_filter input=320 output=576\n",
      "I0301 21:13:31.696036 49512 efficientnet_model.py:143] round_filter input=1280 output=2304\n",
      "I0301 21:13:31.758010 49512 efficientnet_model.py:453] Building model efficientnet with params ModelConfig(width_coefficient=1.8, depth_coefficient=2.6, resolution=528, dropout_rate=0.5, blocks=(BlockConfig(input_filters=32, output_filters=16, kernel_size=3, num_repeat=1, expand_ratio=1, strides=(1, 1), se_ratio=0.25, id_skip=True, fused_conv=False, conv_type='depthwise'), BlockConfig(input_filters=16, output_filters=24, kernel_size=3, num_repeat=2, expand_ratio=6, strides=(2, 2), se_ratio=0.25, id_skip=True, fused_conv=False, conv_type='depthwise'), BlockConfig(input_filters=24, output_filters=40, kernel_size=5, num_repeat=2, expand_ratio=6, strides=(2, 2), se_ratio=0.25, id_skip=True, fused_conv=False, conv_type='depthwise'), BlockConfig(input_filters=40, output_filters=80, kernel_size=3, num_repeat=3, expand_ratio=6, strides=(2, 2), se_ratio=0.25, id_skip=True, fused_conv=False, conv_type='depthwise'), BlockConfig(input_filters=80, output_filters=112, kernel_size=5, num_repeat=3, expand_ratio=6, strides=(1, 1), se_ratio=0.25, id_skip=True, fused_conv=False, conv_type='depthwise'), BlockConfig(input_filters=112, output_filters=192, kernel_size=5, num_repeat=4, expand_ratio=6, strides=(2, 2), se_ratio=0.25, id_skip=True, fused_conv=False, conv_type='depthwise'), BlockConfig(input_filters=192, output_filters=320, kernel_size=3, num_repeat=1, expand_ratio=6, strides=(1, 1), se_ratio=0.25, id_skip=True, fused_conv=False, conv_type='depthwise')), stem_base_filters=32, top_base_filters=1280, activation='simple_swish', batch_norm='default', bn_momentum=0.99, bn_epsilon=0.001, weight_decay=5e-06, drop_connect_rate=0.2, depth_divisor=8, min_depth=None, use_se=True, input_channels=3, num_classes=1000, model_name='efficientnet', rescale_input=False, data_format='channels_last', dtype='float32')\n",
      "I0301 21:13:31.858011 49512 ssd_efficientnet_bifpn_feature_extractor.py:150] EfficientDet EfficientNet backbone version: efficientnet-b7\n",
      "I0301 21:13:31.858011 49512 ssd_efficientnet_bifpn_feature_extractor.py:152] EfficientDet BiFPN num filters: 384\n",
      "I0301 21:13:31.858011 49512 ssd_efficientnet_bifpn_feature_extractor.py:153] EfficientDet BiFPN num iterations: 8\n",
      "I0301 21:13:31.859012 49512 efficientnet_model.py:143] round_filter input=32 output=64\n",
      "I0301 21:13:31.896011 49512 efficientnet_model.py:143] round_filter input=32 output=64\n",
      "I0301 21:13:31.897012 49512 efficientnet_model.py:143] round_filter input=16 output=32\n",
      "I0301 21:13:32.299011 49512 efficientnet_model.py:143] round_filter input=16 output=32\n",
      "I0301 21:13:32.300012 49512 efficientnet_model.py:143] round_filter input=24 output=48\n",
      "I0301 21:13:32.944010 49512 efficientnet_model.py:143] round_filter input=24 output=48\n",
      "I0301 21:13:32.944010 49512 efficientnet_model.py:143] round_filter input=40 output=80\n",
      "I0301 21:13:33.564012 49512 efficientnet_model.py:143] round_filter input=40 output=80\n",
      "I0301 21:13:33.564012 49512 efficientnet_model.py:143] round_filter input=80 output=160\n",
      "I0301 21:13:34.526009 49512 efficientnet_model.py:143] round_filter input=80 output=160\n",
      "I0301 21:13:34.526009 49512 efficientnet_model.py:143] round_filter input=112 output=224\n",
      "I0301 21:13:35.481011 49512 efficientnet_model.py:143] round_filter input=112 output=224\n",
      "I0301 21:13:35.481011 49512 efficientnet_model.py:143] round_filter input=192 output=384\n",
      "I0301 21:13:37.010010 49512 efficientnet_model.py:143] round_filter input=192 output=384\n",
      "I0301 21:13:37.010010 49512 efficientnet_model.py:143] round_filter input=320 output=640\n",
      "I0301 21:13:37.641010 49512 efficientnet_model.py:143] round_filter input=1280 output=2560\n",
      "I0301 21:13:37.712010 49512 efficientnet_model.py:453] Building model efficientnet with params ModelConfig(width_coefficient=2.0, depth_coefficient=3.1, resolution=600, dropout_rate=0.5, blocks=(BlockConfig(input_filters=32, output_filters=16, kernel_size=3, num_repeat=1, expand_ratio=1, strides=(1, 1), se_ratio=0.25, id_skip=True, fused_conv=False, conv_type='depthwise'), BlockConfig(input_filters=16, output_filters=24, kernel_size=3, num_repeat=2, expand_ratio=6, strides=(2, 2), se_ratio=0.25, id_skip=True, fused_conv=False, conv_type='depthwise'), BlockConfig(input_filters=24, output_filters=40, kernel_size=5, num_repeat=2, expand_ratio=6, strides=(2, 2), se_ratio=0.25, id_skip=True, fused_conv=False, conv_type='depthwise'), BlockConfig(input_filters=40, output_filters=80, kernel_size=3, num_repeat=3, expand_ratio=6, strides=(2, 2), se_ratio=0.25, id_skip=True, fused_conv=False, conv_type='depthwise'), BlockConfig(input_filters=80, output_filters=112, kernel_size=5, num_repeat=3, expand_ratio=6, strides=(1, 1), se_ratio=0.25, id_skip=True, fused_conv=False, conv_type='depthwise'), BlockConfig(input_filters=112, output_filters=192, kernel_size=5, num_repeat=4, expand_ratio=6, strides=(2, 2), se_ratio=0.25, id_skip=True, fused_conv=False, conv_type='depthwise'), BlockConfig(input_filters=192, output_filters=320, kernel_size=3, num_repeat=1, expand_ratio=6, strides=(1, 1), se_ratio=0.25, id_skip=True, fused_conv=False, conv_type='depthwise')), stem_base_filters=32, top_base_filters=1280, activation='simple_swish', batch_norm='default', bn_momentum=0.99, bn_epsilon=0.001, weight_decay=5e-06, drop_connect_rate=0.2, depth_divisor=8, min_depth=None, use_se=True, input_channels=3, num_classes=1000, model_name='efficientnet', rescale_input=False, data_format='channels_last', dtype='float32')\n",
      "INFO:tensorflow:time(__main__.ModelBuilderTF2Test.test_create_ssd_models_from_config): 26.33s\n",
      "I0301 21:13:37.822041 49512 test_util.py:2457] time(__main__.ModelBuilderTF2Test.test_create_ssd_models_from_config): 26.33s\n",
      "[       OK ] ModelBuilderTF2Test.test_create_ssd_models_from_config\n",
      "[ RUN      ] ModelBuilderTF2Test.test_invalid_faster_rcnn_batchnorm_update\n",
      "INFO:tensorflow:time(__main__.ModelBuilderTF2Test.test_invalid_faster_rcnn_batchnorm_update): 0.0s\n",
      "I0301 21:13:37.841010 49512 test_util.py:2457] time(__main__.ModelBuilderTF2Test.test_invalid_faster_rcnn_batchnorm_update): 0.0s\n",
      "[       OK ] ModelBuilderTF2Test.test_invalid_faster_rcnn_batchnorm_update\n",
      "[ RUN      ] ModelBuilderTF2Test.test_invalid_first_stage_nms_iou_threshold\n",
      "INFO:tensorflow:time(__main__.ModelBuilderTF2Test.test_invalid_first_stage_nms_iou_threshold): 0.0s\n",
      "I0301 21:13:37.843049 49512 test_util.py:2457] time(__main__.ModelBuilderTF2Test.test_invalid_first_stage_nms_iou_threshold): 0.0s\n",
      "[       OK ] ModelBuilderTF2Test.test_invalid_first_stage_nms_iou_threshold\n",
      "[ RUN      ] ModelBuilderTF2Test.test_invalid_model_config_proto\n",
      "INFO:tensorflow:time(__main__.ModelBuilderTF2Test.test_invalid_model_config_proto): 0.0s\n",
      "I0301 21:13:37.843049 49512 test_util.py:2457] time(__main__.ModelBuilderTF2Test.test_invalid_model_config_proto): 0.0s\n",
      "[       OK ] ModelBuilderTF2Test.test_invalid_model_config_proto\n",
      "[ RUN      ] ModelBuilderTF2Test.test_invalid_second_stage_batch_size\n",
      "INFO:tensorflow:time(__main__.ModelBuilderTF2Test.test_invalid_second_stage_batch_size): 0.0s\n",
      "I0301 21:13:37.844037 49512 test_util.py:2457] time(__main__.ModelBuilderTF2Test.test_invalid_second_stage_batch_size): 0.0s\n",
      "[       OK ] ModelBuilderTF2Test.test_invalid_second_stage_batch_size\n",
      "[ RUN      ] ModelBuilderTF2Test.test_session\n",
      "[  SKIPPED ] ModelBuilderTF2Test.test_session\n",
      "[ RUN      ] ModelBuilderTF2Test.test_unknown_faster_rcnn_feature_extractor\n",
      "INFO:tensorflow:time(__main__.ModelBuilderTF2Test.test_unknown_faster_rcnn_feature_extractor): 0.0s\n",
      "I0301 21:13:37.846010 49512 test_util.py:2457] time(__main__.ModelBuilderTF2Test.test_unknown_faster_rcnn_feature_extractor): 0.0s\n",
      "[       OK ] ModelBuilderTF2Test.test_unknown_faster_rcnn_feature_extractor\n",
      "[ RUN      ] ModelBuilderTF2Test.test_unknown_meta_architecture\n",
      "INFO:tensorflow:time(__main__.ModelBuilderTF2Test.test_unknown_meta_architecture): 0.0s\n",
      "I0301 21:13:37.846010 49512 test_util.py:2457] time(__main__.ModelBuilderTF2Test.test_unknown_meta_architecture): 0.0s\n",
      "[       OK ] ModelBuilderTF2Test.test_unknown_meta_architecture\n",
      "[ RUN      ] ModelBuilderTF2Test.test_unknown_ssd_feature_extractor\n",
      "INFO:tensorflow:time(__main__.ModelBuilderTF2Test.test_unknown_ssd_feature_extractor): 0.0s\n",
      "I0301 21:13:37.847010 49512 test_util.py:2457] time(__main__.ModelBuilderTF2Test.test_unknown_ssd_feature_extractor): 0.0s\n",
      "[       OK ] ModelBuilderTF2Test.test_unknown_ssd_feature_extractor\n",
      "----------------------------------------------------------------------\n",
      "Ran 24 tests in 31.760s\n",
      "\n",
      "OK (skipped=1)\n"
     ]
    }
   ],
   "source": [
    "# Verify Installation\n",
    "VERIFICATION_SCRIPT = os.path.join(paths['APIMODEL_PATH'], 'research', 'object_detection', 'builders', 'model_builder_tf2_test.py')\n",
    "# Verify Installation\n",
    "!python {VERIFICATION_SCRIPT}"
   ]
  },
  {
   "cell_type": "code",
   "execution_count": null,
   "id": "1ed8e5f3",
   "metadata": {},
   "outputs": [],
   "source": [
    "!pip install tensorflow --upgrade"
   ]
  },
  {
   "cell_type": "code",
   "execution_count": null,
   "id": "27ab55bc",
   "metadata": {},
   "outputs": [],
   "source": [
    "# Cell for misc dependency installation\n",
    "!pip install gin-config tensorflow_addons"
   ]
  },
  {
   "cell_type": "code",
   "execution_count": null,
   "id": "f494e833",
   "metadata": {},
   "outputs": [],
   "source": [
    "import object_detection"
   ]
  },
  {
   "cell_type": "code",
   "execution_count": 11,
   "id": "4cffb95c",
   "metadata": {
    "collapsed": true
   },
   "outputs": [
    {
     "name": "stdout",
     "output_type": "stream",
     "text": [
      "Package                      Version   Editable project location\n",
      "---------------------------- --------- --------------------------------------------------------------------------------------\n",
      "absl-py                      1.4.0\n",
      "asttokens                    2.2.1\n",
      "astunparse                   1.6.3\n",
      "backcall                     0.2.0\n",
      "cachetools                   5.3.0\n",
      "certifi                      2022.12.7\n",
      "charset-normalizer           3.0.1\n",
      "colorama                     0.4.6\n",
      "comm                         0.1.2\n",
      "contourpy                    1.0.7\n",
      "cycler                       0.11.0\n",
      "debugpy                      1.6.6\n",
      "decorator                    5.1.1\n",
      "executing                    1.2.0\n",
      "flatbuffers                  23.1.21\n",
      "fonttools                    4.38.0\n",
      "gast                         0.4.0\n",
      "gin-config                   0.5.0\n",
      "google-auth                  2.16.1\n",
      "google-auth-oauthlib         0.4.6\n",
      "google-pasta                 0.2.0\n",
      "grpcio                       1.51.3\n",
      "h5py                         3.8.0\n",
      "idna                         3.4\n",
      "importlib-metadata           6.0.0\n",
      "importlib-resources          5.12.0\n",
      "ipykernel                    6.21.2\n",
      "ipython                      8.11.0\n",
      "jedi                         0.18.2\n",
      "jupyter_client               8.0.3\n",
      "jupyter_core                 5.2.0\n",
      "keras                        2.11.0\n",
      "kiwisolver                   1.4.4\n",
      "libclang                     15.0.6.1\n",
      "lvis                         0.5.3\n",
      "lxml                         4.9.2\n",
      "Markdown                     3.4.1\n",
      "MarkupSafe                   2.1.2\n",
      "matplotlib                   3.7.0\n",
      "matplotlib-inline            0.1.6\n",
      "nest-asyncio                 1.5.6\n",
      "numpy                        1.24.2\n",
      "oauthlib                     3.2.2\n",
      "object-detection             0.1\n",
      "opencv-python                4.7.0.72\n",
      "opt-einsum                   3.3.0\n",
      "packaging                    23.0\n",
      "pandas                       2.0.0rc0\n",
      "parso                        0.8.3\n",
      "pickleshare                  0.7.5\n",
      "Pillow                       9.4.0\n",
      "pip                          23.0.1\n",
      "platformdirs                 3.0.0\n",
      "prompt-toolkit               3.0.38\n",
      "protobuf                     3.19.6\n",
      "psutil                       5.9.4\n",
      "pure-eval                    0.2.2\n",
      "pyasn1                       0.4.8\n",
      "pyasn1-modules               0.2.8\n",
      "Pygments                     2.14.0\n",
      "pyparsing                    2.4.7\n",
      "PyQt5                        5.15.9\n",
      "PyQt5-Qt5                    5.15.2\n",
      "PyQt5-sip                    12.11.1\n",
      "python-dateutil              2.8.2\n",
      "pywin32                      305\n",
      "PyYAML                       5.4.1\n",
      "pyzmq                        25.0.0\n",
      "requests                     2.28.2\n",
      "requests-oauthlib            1.3.1\n",
      "rsa                          4.9\n",
      "sacrebleu                    2.2.0\n",
      "scipy                        1.10.1\n",
      "setuptools                   58.1.0\n",
      "six                          1.16.0\n",
      "slim                         0.1       c:\\users\\abrad\\documents\\github\\ai_basketball\\training\\tensorflow\\models\\research\\slim\n",
      "stack-data                   0.6.2\n",
      "tensorboard                  2.11.2\n",
      "tensorboard-data-server      0.6.1\n",
      "tensorboard-plugin-wit       1.8.1\n",
      "tensorflow                   2.11.0\n",
      "tensorflow-addons            0.19.0\n",
      "tensorflow-estimator         2.11.0\n",
      "tensorflow-intel             2.11.0\n",
      "tensorflow-io                0.31.0\n",
      "tensorflow-io-gcs-filesystem 0.31.0\n",
      "termcolor                    2.2.0\n",
      "tf-models-official           2.11.3\n",
      "tf-slim                      1.1.0\n",
      "tornado                      6.2\n",
      "traitlets                    5.9.0\n",
      "typeguard                    2.13.3\n",
      "typing_extensions            4.5.0\n",
      "urllib3                      1.26.14\n",
      "wcwidth                      0.2.6\n",
      "Werkzeug                     2.2.3\n",
      "wget                         3.2\n",
      "wheel                        0.38.4\n",
      "wrapt                        1.15.0\n",
      "zipp                         3.15.0\n"
     ]
    }
   ],
   "source": [
    "!pip list"
   ]
  },
  {
   "cell_type": "code",
   "execution_count": 12,
   "id": "d64eb3bb",
   "metadata": {},
   "outputs": [],
   "source": [
    "# https://www.tensorflow.org/install/source_windows for cuDNN and CUDA versions required\n",
    "# only for GPU training"
   ]
  },
  {
   "cell_type": "code",
   "execution_count": 14,
   "id": "1daa48a0",
   "metadata": {},
   "outputs": [
    {
     "name": "stdout",
     "output_type": "stream",
     "text": [
      "        1 file(s) moved.\n",
      "faster_rcnn_resnet101_v1_640x640_coco17_tpu-8/\n",
      "faster_rcnn_resnet101_v1_640x640_coco17_tpu-8/checkpoint/\n",
      "faster_rcnn_resnet101_v1_640x640_coco17_tpu-8/checkpoint/ckpt-0.data-00000-of-00001\n",
      "faster_rcnn_resnet101_v1_640x640_coco17_tpu-8/checkpoint/checkpoint\n",
      "faster_rcnn_resnet101_v1_640x640_coco17_tpu-8/checkpoint/ckpt-0.index\n",
      "faster_rcnn_resnet101_v1_640x640_coco17_tpu-8/pipeline.config\n",
      "faster_rcnn_resnet101_v1_640x640_coco17_tpu-8/saved_model/\n",
      "faster_rcnn_resnet101_v1_640x640_coco17_tpu-8/saved_model/saved_model.pb\n",
      "faster_rcnn_resnet101_v1_640x640_coco17_tpu-8/saved_model/variables/\n",
      "faster_rcnn_resnet101_v1_640x640_coco17_tpu-8/saved_model/variables/variables.data-00000-of-00001\n",
      "faster_rcnn_resnet101_v1_640x640_coco17_tpu-8/saved_model/variables/variables.index\n"
     ]
    }
   ],
   "source": [
    "# download pre-trained model to kickstart custom training\n",
    "wget.download(PRETRAINED_MODEL_URL)\n",
    "!move {PRETRAINED_MODEL_NAME+'.tar.gz'} {paths['PRETRAINED_MODEL_PATH']}\n",
    "!cd {paths['PRETRAINED_MODEL_PATH']} && tar -zxvf {PRETRAINED_MODEL_NAME+'.tar.gz'}"
   ]
  },
  {
   "cell_type": "markdown",
   "id": "a1da10c2",
   "metadata": {},
   "source": [
    "# Create Label Map"
   ]
  },
  {
   "cell_type": "code",
   "execution_count": 15,
   "id": "6bccded0",
   "metadata": {},
   "outputs": [],
   "source": [
    "labels = [{'name': 'Jumpshot', 'id':1}, {'name': 'MadeBasket', 'id':2}]\n",
    "\n",
    "with open(files['LABELMAP'], 'w') as f:\n",
    "    for label in labels:\n",
    "        f.write('item{ \\n')\n",
    "        f.write('\\tname:\\'{}\\'\\n'.format(label['name']))\n",
    "        f.write('\\tid:{}\\n'.format(label['id']))\n",
    "        f.write('}\\n')"
   ]
  },
  {
   "cell_type": "markdown",
   "id": "94b03bb5",
   "metadata": {},
   "source": [
    "# Create TF Records"
   ]
  },
  {
   "cell_type": "code",
   "execution_count": 18,
   "id": "bcd4a864",
   "metadata": {
    "collapsed": true
   },
   "outputs": [
    {
     "name": "stdout",
     "output_type": "stream",
     "text": [
      "Collecting pytz\n",
      "  Downloading pytz-2022.7.1-py2.py3-none-any.whl (499 kB)\n",
      "     ---------------------------------------- 0.0/499.4 kB ? eta -:--:--\n",
      "     ----------------- -------------------- 235.5/499.4 kB 7.0 MB/s eta 0:00:01\n",
      "     -------------------------------------  491.5/499.4 kB 7.6 MB/s eta 0:00:01\n",
      "     -------------------------------------- 499.4/499.4 kB 6.3 MB/s eta 0:00:00\n",
      "Installing collected packages: pytz\n",
      "Successfully installed pytz-2022.7.1\n"
     ]
    }
   ],
   "source": [
    "!pip install pytz"
   ]
  },
  {
   "cell_type": "code",
   "execution_count": 16,
   "id": "acbc5d03",
   "metadata": {
    "collapsed": true
   },
   "outputs": [
    {
     "name": "stderr",
     "output_type": "stream",
     "text": [
      "Cloning into 'Tensorflow\\scripts'...\n"
     ]
    }
   ],
   "source": [
    "# TFRecords are a file format that helps speed up model training\n",
    "# Binary file format for storing data\n",
    "# Downloads script that takes images and annotations and converts to TFRecords\n",
    "if not os.path.exists(files['TF_RECORD_SCRIPT']):\n",
    "    !git clone https://github.com/nicknochnack/GenerateTFRecord {paths['SCRIPTS_PATH']}"
   ]
  },
  {
   "cell_type": "code",
   "execution_count": 19,
   "id": "c68c1772",
   "metadata": {},
   "outputs": [
    {
     "name": "stdout",
     "output_type": "stream",
     "text": [
      "Successfully created the TFRecord file: Tensorflow\\workspace\\annotations\\train.record\n",
      "Successfully created the TFRecord file: Tensorflow\\workspace\\annotations\\test.record\n"
     ]
    }
   ],
   "source": [
    "# Generates record files for training and testing using script\n",
    "!python {files['TF_RECORD_SCRIPT']} -x {os.path.join(paths['IMAGE_PATH'], 'train')} -l {files['LABELMAP']} -o {os.path.join(paths['ANNOTATION_PATH'], 'train.record')}\n",
    "!python {files['TF_RECORD_SCRIPT']} -x {os.path.join(paths['IMAGE_PATH'], 'test')} -l {files['LABELMAP']} -o {os.path.join(paths['ANNOTATION_PATH'], 'test.record')}"
   ]
  },
  {
   "cell_type": "markdown",
   "id": "9dd7f0f2",
   "metadata": {},
   "source": [
    "# Copy Model Config to Training Folder"
   ]
  },
  {
   "cell_type": "code",
   "execution_count": 20,
   "id": "4785aa89",
   "metadata": {},
   "outputs": [
    {
     "name": "stdout",
     "output_type": "stream",
     "text": [
      "        1 file(s) copied.\n"
     ]
    }
   ],
   "source": [
    "# the pipeline.config file is really what controls the training parameters\n",
    "!copy {os.path.join(paths['PRETRAINED_MODEL_PATH'], PRETRAINED_MODEL_NAME, 'pipeline.config')} {os.path.join(paths['CHECKPOINT_PATH'])}"
   ]
  },
  {
   "cell_type": "markdown",
   "id": "d50ba09e",
   "metadata": {},
   "source": [
    "# Update Config for Transfer Learning"
   ]
  },
  {
   "cell_type": "code",
   "execution_count": 21,
   "id": "97f81611",
   "metadata": {},
   "outputs": [],
   "source": [
    "import tensorflow as tf\n",
    "from object_detection.utils import config_util\n",
    "from object_detection.protos import pipeline_pb2\n",
    "from google.protobuf import text_format"
   ]
  },
  {
   "cell_type": "code",
   "execution_count": 22,
   "id": "a8cde44d",
   "metadata": {},
   "outputs": [],
   "source": [
    "config = config_util.get_configs_from_pipeline_file(files['PIPELINE_CONFIG'])"
   ]
  },
  {
   "cell_type": "code",
   "execution_count": 23,
   "id": "19c7c6a0",
   "metadata": {
    "scrolled": true
   },
   "outputs": [
    {
     "data": {
      "text/plain": [
       "{'model': faster_rcnn {\n",
       "   num_classes: 90\n",
       "   image_resizer {\n",
       "     keep_aspect_ratio_resizer {\n",
       "       min_dimension: 640\n",
       "       max_dimension: 640\n",
       "       pad_to_max_dimension: true\n",
       "     }\n",
       "   }\n",
       "   feature_extractor {\n",
       "     type: \"faster_rcnn_resnet101_keras\"\n",
       "     batch_norm_trainable: true\n",
       "   }\n",
       "   first_stage_anchor_generator {\n",
       "     grid_anchor_generator {\n",
       "       height_stride: 16\n",
       "       width_stride: 16\n",
       "       scales: 0.25\n",
       "       scales: 0.5\n",
       "       scales: 1.0\n",
       "       scales: 2.0\n",
       "       aspect_ratios: 0.5\n",
       "       aspect_ratios: 1.0\n",
       "       aspect_ratios: 2.0\n",
       "     }\n",
       "   }\n",
       "   first_stage_box_predictor_conv_hyperparams {\n",
       "     op: CONV\n",
       "     regularizer {\n",
       "       l2_regularizer {\n",
       "         weight: 0.0\n",
       "       }\n",
       "     }\n",
       "     initializer {\n",
       "       truncated_normal_initializer {\n",
       "         stddev: 0.009999999776482582\n",
       "       }\n",
       "     }\n",
       "   }\n",
       "   first_stage_nms_score_threshold: 0.0\n",
       "   first_stage_nms_iou_threshold: 0.699999988079071\n",
       "   first_stage_max_proposals: 300\n",
       "   first_stage_localization_loss_weight: 2.0\n",
       "   first_stage_objectness_loss_weight: 1.0\n",
       "   initial_crop_size: 14\n",
       "   maxpool_kernel_size: 2\n",
       "   maxpool_stride: 2\n",
       "   second_stage_box_predictor {\n",
       "     mask_rcnn_box_predictor {\n",
       "       fc_hyperparams {\n",
       "         op: FC\n",
       "         regularizer {\n",
       "           l2_regularizer {\n",
       "             weight: 0.0\n",
       "           }\n",
       "         }\n",
       "         initializer {\n",
       "           variance_scaling_initializer {\n",
       "             factor: 1.0\n",
       "             uniform: true\n",
       "             mode: FAN_AVG\n",
       "           }\n",
       "         }\n",
       "       }\n",
       "       use_dropout: false\n",
       "       dropout_keep_probability: 1.0\n",
       "       share_box_across_classes: true\n",
       "     }\n",
       "   }\n",
       "   second_stage_post_processing {\n",
       "     batch_non_max_suppression {\n",
       "       score_threshold: 0.0\n",
       "       iou_threshold: 0.6000000238418579\n",
       "       max_detections_per_class: 100\n",
       "       max_total_detections: 300\n",
       "     }\n",
       "     score_converter: SOFTMAX\n",
       "   }\n",
       "   second_stage_localization_loss_weight: 2.0\n",
       "   second_stage_classification_loss_weight: 1.0\n",
       "   use_matmul_crop_and_resize: true\n",
       "   clip_anchors_to_image: true\n",
       "   use_matmul_gather_in_matcher: true\n",
       "   use_static_balanced_label_sampler: true\n",
       "   use_static_shapes: true\n",
       " },\n",
       " 'train_config': batch_size: 64\n",
       " data_augmentation_options {\n",
       "   random_horizontal_flip {\n",
       "   }\n",
       " }\n",
       " sync_replicas: true\n",
       " optimizer {\n",
       "   momentum_optimizer {\n",
       "     learning_rate {\n",
       "       cosine_decay_learning_rate {\n",
       "         learning_rate_base: 0.03999999910593033\n",
       "         total_steps: 25000\n",
       "         warmup_learning_rate: 0.013333000242710114\n",
       "         warmup_steps: 2000\n",
       "       }\n",
       "     }\n",
       "     momentum_optimizer_value: 0.8999999761581421\n",
       "   }\n",
       "   use_moving_average: false\n",
       " }\n",
       " fine_tune_checkpoint: \"PATH_TO_BE_CONFIGURED\"\n",
       " num_steps: 25000\n",
       " startup_delay_steps: 0.0\n",
       " replicas_to_aggregate: 8\n",
       " max_number_of_boxes: 100\n",
       " unpad_groundtruth_tensors: false\n",
       " fine_tune_checkpoint_type: \"classification\"\n",
       " use_bfloat16: true\n",
       " fine_tune_checkpoint_version: V2,\n",
       " 'train_input_config': label_map_path: \"PATH_TO_BE_CONFIGURED/label_map.txt\"\n",
       " tf_record_input_reader {\n",
       "   input_path: \"PATH_TO_BE_CONFIGURED/train2017-?????-of-00256.tfrecord\"\n",
       " },\n",
       " 'eval_config': metrics_set: \"coco_detection_metrics\"\n",
       " use_moving_averages: false\n",
       " batch_size: 1,\n",
       " 'eval_input_configs': [label_map_path: \"PATH_TO_BE_CONFIGURED/label_map.txt\"\n",
       " shuffle: false\n",
       " num_epochs: 1\n",
       " tf_record_input_reader {\n",
       "   input_path: \"PATH_TO_BE_CONFIGURED/val2017-?????-of-00032.tfrecord\"\n",
       " }\n",
       " ],\n",
       " 'eval_input_config': label_map_path: \"PATH_TO_BE_CONFIGURED/label_map.txt\"\n",
       " shuffle: false\n",
       " num_epochs: 1\n",
       " tf_record_input_reader {\n",
       "   input_path: \"PATH_TO_BE_CONFIGURED/val2017-?????-of-00032.tfrecord\"\n",
       " }}"
      ]
     },
     "execution_count": 23,
     "metadata": {},
     "output_type": "execute_result"
    }
   ],
   "source": [
    "config"
   ]
  },
  {
   "cell_type": "code",
   "execution_count": 24,
   "id": "9eed08f1",
   "metadata": {},
   "outputs": [],
   "source": [
    "pipeline_config = pipeline_pb2.TrainEvalPipelineConfig()\n",
    "with tf.io.gfile.GFile(files['PIPELINE_CONFIG'], \"r\") as f:                                                                                                                                                                                                                     \n",
    "    proto_str = f.read()                                                                                                                                                                                                                                          \n",
    "    text_format.Merge(proto_str, pipeline_config)"
   ]
  },
  {
   "cell_type": "code",
   "execution_count": 25,
   "id": "35a821a2",
   "metadata": {},
   "outputs": [],
   "source": [
    "pipeline_config.model.faster_rcnn.num_classes = len(labels)\n",
    "pipeline_config.train_config.batch_size = 4\n",
    "pipeline_config.train_config.fine_tune_checkpoint = os.path.join(paths['PRETRAINED_MODEL_PATH'], PRETRAINED_MODEL_NAME, 'checkpoint', 'ckpt-0')\n",
    "pipeline_config.train_config.fine_tune_checkpoint_type = \"detection\"\n",
    "pipeline_config.train_input_reader.label_map_path= files['LABELMAP']\n",
    "pipeline_config.train_input_reader.tf_record_input_reader.input_path[:] = [os.path.join(paths['ANNOTATION_PATH'], 'train.record')]\n",
    "pipeline_config.eval_input_reader[0].label_map_path = files['LABELMAP']\n",
    "pipeline_config.eval_input_reader[0].tf_record_input_reader.input_path[:] = [os.path.join(paths['ANNOTATION_PATH'], 'test.record')]"
   ]
  },
  {
   "cell_type": "code",
   "execution_count": 26,
   "id": "5a67fac6",
   "metadata": {},
   "outputs": [],
   "source": [
    "config_text = text_format.MessageToString(pipeline_config)                                                                                                                                                                                                        \n",
    "with tf.io.gfile.GFile(files['PIPELINE_CONFIG'], \"wb\") as f:                                                                                                                                                                                                                     \n",
    "    f.write(config_text)"
   ]
  },
  {
   "cell_type": "markdown",
   "id": "e035f5de",
   "metadata": {},
   "source": [
    "# Train the Model"
   ]
  },
  {
   "cell_type": "code",
   "execution_count": 27,
   "id": "31bb99da",
   "metadata": {},
   "outputs": [],
   "source": [
    "TRAINING_SCRIPT = os.path.join(paths['APIMODEL_PATH'], 'research', 'object_detection', 'model_main_tf2.py')"
   ]
  },
  {
   "cell_type": "code",
   "execution_count": 28,
   "id": "36cece6f",
   "metadata": {},
   "outputs": [],
   "source": [
    "command = \"python {} --model_dir={} --pipeline_config_path={} --num_train_steps=2000\".format(TRAINING_SCRIPT, paths['CHECKPOINT_PATH'],files['PIPELINE_CONFIG'])"
   ]
  },
  {
   "cell_type": "code",
   "execution_count": 29,
   "id": "5ce7c832",
   "metadata": {},
   "outputs": [
    {
     "name": "stdout",
     "output_type": "stream",
     "text": [
      "python Tensorflow\\models\\research\\object_detection\\model_main_tf2.py --model_dir=Tensorflow\\workspace\\models\\faster_rcnn_v1 --pipeline_config_path=Tensorflow\\workspace\\models\\faster_rcnn_v1\\pipeline.config --num_train_steps=2000\n"
     ]
    }
   ],
   "source": [
    "# Run in command line to see terminal output as it runs\n",
    "print(command)"
   ]
  },
  {
   "cell_type": "code",
   "execution_count": null,
   "id": "2024da56",
   "metadata": {},
   "outputs": [],
   "source": [
    "# Run for asynchronous training\n",
    "#!{command}"
   ]
  }
 ],
 "metadata": {
  "kernelspec": {
   "display_name": "ai",
   "language": "python",
   "name": "ai"
  },
  "language_info": {
   "codemirror_mode": {
    "name": "ipython",
    "version": 3
   },
   "file_extension": ".py",
   "mimetype": "text/x-python",
   "name": "python",
   "nbconvert_exporter": "python",
   "pygments_lexer": "ipython3",
   "version": "3.9.13"
  }
 },
 "nbformat": 4,
 "nbformat_minor": 5
}
